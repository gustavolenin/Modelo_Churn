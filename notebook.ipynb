{
 "cells": [
  {
   "attachments": {},
   "cell_type": "markdown",
   "metadata": {},
   "source": [
    "Os templates HTML foram modificados para apresentação com base nesse [artigo](https://medium.com/star-gazers/building-churn-predictor-with-python-flask-html-and-css-fbab760e8441)\n",
    "\n",
    "Os templates utilizados são do [Multi Boostrap Template](https://bootstrapmade.com/multi-responsive-bootstrap-template/)"
   ]
  },
  {
   "cell_type": "code",
   "execution_count": 31,
   "metadata": {},
   "outputs": [],
   "source": [
    "import math\n",
    "import datetime \n",
    "import numpy             as np\n",
    "import matplotlib.pyplot as plt\n",
    "import matplotlib        as mpl\n",
    "import pandas            as pd\n",
    "import seaborn           as sns\n",
    "from sklearn.pipeline import Pipeline\n",
    "from sklearn.preprocessing import StandardScaler\n",
    "from category_encoders import TargetEncoder\n",
    "from sklearn.impute import SimpleImputer\n",
    "from sklearn.compose import ColumnTransformer\n",
    "from sklearn.feature_selection import RFECV\n",
    "from sklearn.model_selection import train_test_split, GridSearchCV, RandomizedSearchCV\n",
    "from xgboost import XGBClassifier\n",
    "import lightgbm as lgb\n",
    "from sklearn.ensemble import RandomForestClassifier, AdaBoostClassifier, GradientBoostingClassifier\n",
    "from sklearn.tree import DecisionTreeClassifier\n",
    "from catboost import CatBoostClassifier\n",
    "from sklearn.linear_model import LogisticRegression\n",
    "from sklearn.neighbors import KNeighborsClassifier\n",
    "from sklearn.svm import SVC\n",
    "from sklearn.metrics import confusion_matrix, classification_report, roc_curve, roc_auc_score, f1_score, accuracy_score\n",
    "from IPython.core.display import HTML\n",
    "from IPython.display import Image\n",
    "import gc\n",
    "import dataframe_image as dfi\n",
    "import warnings\n",
    "warnings.filterwarnings(\"ignore\")"
   ]
  },
  {
   "attachments": {},
   "cell_type": "markdown",
   "metadata": {},
   "source": [
    "## 0.1. Funções Auxiliares"
   ]
  },
  {
   "cell_type": "code",
   "execution_count": 32,
   "metadata": {},
   "outputs": [],
   "source": [
    "def load_csv(path):\n",
    "    ''' Função utilizada para carregamento dos dados'''\n",
    "    df = pd.read_csv(path, low_memory=True)\n",
    "    return df\n",
    "    \n",
    "def show_dimensions(df):\n",
    "    ''' Função utilizada para obter as dimensões dos dados'''\n",
    "    print(f\"Number of Rows:    {df.shape[0]}\")\n",
    "    print(f\"Number of Columns: {df.shape[1]}\")\n",
    "    print(f\"Shape:             {df.shape}\")\n",
    "    return None\n",
    "\n",
    "def show_data_types(df):\n",
    "    ''' Função utilizada para obter os tipos dos dados'''\n",
    "    print(df.dtypes)\n",
    "    return None\n",
    "\n",
    "def check_na(df):\n",
    "    ''' Função utilizada para visualizar dados ausentes ou NaN'''\n",
    "    df_aux = pd.DataFrame(df.isna().sum().sort_values(ascending=False),columns=['Quantity of Missings'])\n",
    "    size = df.shape[0]\n",
    "    df_aux['Percent of Missings'] = 100*df_aux/size    \n",
    "    df_aux = df_aux.sort_values(by='Percent of Missings',ascending=False)\n",
    "    return df_aux\n",
    "\n",
    "def eliminate_incorrect_entries_code_gender(df):\n",
    "    ''' Função utilizada para eliminar as entradas incorretas (XNA) na variável CODE_GENDER'''\n",
    "    df = df[df['CODE_GENDER'] != 'XNA']\n",
    "    return df\n",
    "    \n",
    "def change_to_binary(df,columns):\n",
    "    ''' Função utilizada para tornar as variáveis especificadas como binárias'''\n",
    "    for bin_feature in columns:\n",
    "        df[bin_feature], uniques = pd.factorize(df[bin_feature])\n",
    "    return df\n",
    "\n",
    "def show_descriptive_statistical(df):\n",
    "    ''' Função utilizada para exibir informações de estatística descritiva'''\n",
    "    # Central Tendency - mean, median\n",
    "    ct1 = pd.DataFrame(df.apply(np.mean)).T\n",
    "    ct2 = pd.DataFrame(df.apply(np.median)).T\n",
    "\n",
    "    # Dispersion - std, min, max, range, skew, kurtosis\n",
    "    d1 = pd.DataFrame(df.apply(np.std)).T\n",
    "    d2 = pd.DataFrame(df.apply(min)).T\n",
    "    d3 = pd.DataFrame(df.apply(max)).T\n",
    "    d4 = pd.DataFrame(df.apply(lambda x: x.max() - x.min())).T\n",
    "    d5 = pd.DataFrame(df.apply(lambda x: x.skew())).T\n",
    "    d6 = pd.DataFrame(df.apply(lambda x: x.kurtosis())).T\n",
    "\n",
    "    df_descriptive = pd.concat([d2, d3, d4, ct1, ct2, d1, d5, d6]).T.reset_index()\n",
    "    df_descriptive.columns = ['attributes', 'min', 'max', 'range', 'mean', 'median', 'std', 'skew', 'kurtosis']\n",
    "    return df_descriptive\n",
    "\n",
    "def drop_id_column(df):\n",
    "    ''' Função utilizada para dropar a coluna ID'''\n",
    "    df.drop(columns=['SK_ID_CURR'],inplace=True)\n",
    "    return df\n",
    "\n",
    "def one_hot_encoder(df, nan_as_category = True):\n",
    "    original_columns    = list(df.columns)\n",
    "    categorical_columns = [col for col in df.columns if df[col].dtype == 'object']\n",
    "    df                  = pd.get_dummies(df, columns=categorical_columns, dummy_na=nan_as_category)\n",
    "    new_columns         = [column for column in df.columns if column not in original_columns]\n",
    "    return df, new_columns\n",
    "\n",
    "def numeric_category_dataframe(df):\n",
    "    numeric_columns     = df.describe().columns.to_list()\n",
    "    category_columns    = df.drop(columns=numeric_columns).columns\n",
    "    numeric_dataframe   = df[numeric_columns]\n",
    "    category_dataframe  = df[category_columns]\n",
    "    return numeric_dataframe, category_dataframe\n",
    "    \n",
    "def jupyter_settings():\n",
    "    ''' Função utilizada para configurar o notebook'''\n",
    "    %matplotlib inline\n",
    "    #%pylab inline\n",
    "    \n",
    "    #plt.style.use( 'ggplot')\n",
    "    plt.rcParams['figure.figsize'] = [12, 8]\n",
    "    plt.rcParams['font.size'] = 24\n",
    "    mpl.rcParams['pdf.fonttype'] = 42\n",
    "    mpl.rcParams['ps.fonttype'] = 42\n",
    "    mpl.rcParams['font.family'] = 'Arial'\n",
    "    \n",
    "    display( HTML( '') )\n",
    "    pd.options.display.max_columns = None\n",
    "    pd.options.display.max_rows = None\n",
    "    pd.set_option( 'display.expand_frame_repr', False )\n",
    "    \n",
    "    sns.set()\n",
    "    return"
   ]
  },
  {
   "cell_type": "code",
   "execution_count": 33,
   "metadata": {},
   "outputs": [
    {
     "data": {
      "text/html": [],
      "text/plain": [
       "<IPython.core.display.HTML object>"
      ]
     },
     "metadata": {},
     "output_type": "display_data"
    }
   ],
   "source": [
    "# Configurando o notebook\n",
    "jupyter_settings()"
   ]
  },
  {
   "attachments": {},
   "cell_type": "markdown",
   "metadata": {},
   "source": [
    "## 0.2. Definição dos Caminhos"
   ]
  },
  {
   "cell_type": "code",
   "execution_count": 34,
   "metadata": {},
   "outputs": [],
   "source": [
    "path = './data/train.csv'"
   ]
  },
  {
   "attachments": {},
   "cell_type": "markdown",
   "metadata": {},
   "source": [
    "## 0.3. Carregamento dos Dados"
   ]
  },
  {
   "cell_type": "code",
   "execution_count": 35,
   "metadata": {},
   "outputs": [],
   "source": [
    "data = load_csv(path)"
   ]
  },
  {
   "attachments": {},
   "cell_type": "markdown",
   "metadata": {},
   "source": [
    "# 1.0 Descrição dos dados"
   ]
  },
  {
   "attachments": {},
   "cell_type": "markdown",
   "metadata": {},
   "source": [
    "## 1.1 Dimensões dos dados"
   ]
  },
  {
   "cell_type": "code",
   "execution_count": 36,
   "metadata": {},
   "outputs": [
    {
     "name": "stdout",
     "output_type": "stream",
     "text": [
      "Number of Rows:    5634\n",
      "Number of Columns: 21\n",
      "Shape:             (5634, 21)\n"
     ]
    }
   ],
   "source": [
    "show_dimensions(data)"
   ]
  },
  {
   "attachments": {},
   "cell_type": "markdown",
   "metadata": {},
   "source": [
    "## 1.2 Tipos dos Dados"
   ]
  },
  {
   "cell_type": "code",
   "execution_count": 37,
   "metadata": {},
   "outputs": [
    {
     "name": "stdout",
     "output_type": "stream",
     "text": [
      "id                    int64\n",
      "gender               object\n",
      "SeniorCitizen         int64\n",
      "Partner              object\n",
      "Dependents           object\n",
      "tenure              float64\n",
      "PhoneService         object\n",
      "MultipleLines        object\n",
      "InternetService      object\n",
      "OnlineSecurity       object\n",
      "OnlineBackup         object\n",
      "DeviceProtection     object\n",
      "TechSupport          object\n",
      "StreamingTV          object\n",
      "StreamingMovies      object\n",
      "Contract             object\n",
      "PaperlessBilling     object\n",
      "PaymentMethod        object\n",
      "MonthlyCharges      float64\n",
      "TotalCharges         object\n",
      "Churn                 int64\n",
      "dtype: object\n"
     ]
    }
   ],
   "source": [
    "show_data_types(data)"
   ]
  },
  {
   "attachments": {},
   "cell_type": "markdown",
   "metadata": {},
   "source": [
    "## 1.3 Checar NaN"
   ]
  },
  {
   "cell_type": "code",
   "execution_count": 38,
   "metadata": {},
   "outputs": [
    {
     "data": {
      "text/html": [
       "<div>\n",
       "<style scoped>\n",
       "    .dataframe tbody tr th:only-of-type {\n",
       "        vertical-align: middle;\n",
       "    }\n",
       "\n",
       "    .dataframe tbody tr th {\n",
       "        vertical-align: top;\n",
       "    }\n",
       "\n",
       "    .dataframe thead th {\n",
       "        text-align: right;\n",
       "    }\n",
       "</style>\n",
       "<table border=\"1\" class=\"dataframe\">\n",
       "  <thead>\n",
       "    <tr style=\"text-align: right;\">\n",
       "      <th></th>\n",
       "      <th>Quantity of Missings</th>\n",
       "      <th>Percent of Missings</th>\n",
       "    </tr>\n",
       "  </thead>\n",
       "  <tbody>\n",
       "    <tr>\n",
       "      <th>tenure</th>\n",
       "      <td>461</td>\n",
       "      <td>8.182464</td>\n",
       "    </tr>\n",
       "    <tr>\n",
       "      <th>Dependents</th>\n",
       "      <td>218</td>\n",
       "      <td>3.869365</td>\n",
       "    </tr>\n",
       "    <tr>\n",
       "      <th>PaymentMethod</th>\n",
       "      <td>99</td>\n",
       "      <td>1.757188</td>\n",
       "    </tr>\n",
       "    <tr>\n",
       "      <th>DeviceProtection</th>\n",
       "      <td>0</td>\n",
       "      <td>0.000000</td>\n",
       "    </tr>\n",
       "    <tr>\n",
       "      <th>SeniorCitizen</th>\n",
       "      <td>0</td>\n",
       "      <td>0.000000</td>\n",
       "    </tr>\n",
       "    <tr>\n",
       "      <th>Partner</th>\n",
       "      <td>0</td>\n",
       "      <td>0.000000</td>\n",
       "    </tr>\n",
       "    <tr>\n",
       "      <th>PhoneService</th>\n",
       "      <td>0</td>\n",
       "      <td>0.000000</td>\n",
       "    </tr>\n",
       "    <tr>\n",
       "      <th>MultipleLines</th>\n",
       "      <td>0</td>\n",
       "      <td>0.000000</td>\n",
       "    </tr>\n",
       "    <tr>\n",
       "      <th>InternetService</th>\n",
       "      <td>0</td>\n",
       "      <td>0.000000</td>\n",
       "    </tr>\n",
       "    <tr>\n",
       "      <th>OnlineSecurity</th>\n",
       "      <td>0</td>\n",
       "      <td>0.000000</td>\n",
       "    </tr>\n",
       "    <tr>\n",
       "      <th>gender</th>\n",
       "      <td>0</td>\n",
       "      <td>0.000000</td>\n",
       "    </tr>\n",
       "    <tr>\n",
       "      <th>StreamingTV</th>\n",
       "      <td>0</td>\n",
       "      <td>0.000000</td>\n",
       "    </tr>\n",
       "    <tr>\n",
       "      <th>OnlineBackup</th>\n",
       "      <td>0</td>\n",
       "      <td>0.000000</td>\n",
       "    </tr>\n",
       "    <tr>\n",
       "      <th>StreamingMovies</th>\n",
       "      <td>0</td>\n",
       "      <td>0.000000</td>\n",
       "    </tr>\n",
       "    <tr>\n",
       "      <th>Contract</th>\n",
       "      <td>0</td>\n",
       "      <td>0.000000</td>\n",
       "    </tr>\n",
       "    <tr>\n",
       "      <th>PaperlessBilling</th>\n",
       "      <td>0</td>\n",
       "      <td>0.000000</td>\n",
       "    </tr>\n",
       "    <tr>\n",
       "      <th>MonthlyCharges</th>\n",
       "      <td>0</td>\n",
       "      <td>0.000000</td>\n",
       "    </tr>\n",
       "    <tr>\n",
       "      <th>TotalCharges</th>\n",
       "      <td>0</td>\n",
       "      <td>0.000000</td>\n",
       "    </tr>\n",
       "    <tr>\n",
       "      <th>TechSupport</th>\n",
       "      <td>0</td>\n",
       "      <td>0.000000</td>\n",
       "    </tr>\n",
       "    <tr>\n",
       "      <th>id</th>\n",
       "      <td>0</td>\n",
       "      <td>0.000000</td>\n",
       "    </tr>\n",
       "    <tr>\n",
       "      <th>Churn</th>\n",
       "      <td>0</td>\n",
       "      <td>0.000000</td>\n",
       "    </tr>\n",
       "  </tbody>\n",
       "</table>\n",
       "</div>"
      ],
      "text/plain": [
       "                  Quantity of Missings  Percent of Missings\n",
       "tenure                             461             8.182464\n",
       "Dependents                         218             3.869365\n",
       "PaymentMethod                       99             1.757188\n",
       "DeviceProtection                     0             0.000000\n",
       "SeniorCitizen                        0             0.000000\n",
       "Partner                              0             0.000000\n",
       "PhoneService                         0             0.000000\n",
       "MultipleLines                        0             0.000000\n",
       "InternetService                      0             0.000000\n",
       "OnlineSecurity                       0             0.000000\n",
       "gender                               0             0.000000\n",
       "StreamingTV                          0             0.000000\n",
       "OnlineBackup                         0             0.000000\n",
       "StreamingMovies                      0             0.000000\n",
       "Contract                             0             0.000000\n",
       "PaperlessBilling                     0             0.000000\n",
       "MonthlyCharges                       0             0.000000\n",
       "TotalCharges                         0             0.000000\n",
       "TechSupport                          0             0.000000\n",
       "id                                   0             0.000000\n",
       "Churn                                0             0.000000"
      ]
     },
     "execution_count": 38,
     "metadata": {},
     "output_type": "execute_result"
    }
   ],
   "source": [
    "df_aux = check_na(data)\n",
    "df_aux"
   ]
  },
  {
   "attachments": {},
   "cell_type": "markdown",
   "metadata": {},
   "source": [
    "## 1.4 Estatística Descritiva"
   ]
  },
  {
   "cell_type": "code",
   "execution_count": 39,
   "metadata": {},
   "outputs": [],
   "source": [
    "num_attributes = data.select_dtypes(include=['int32', 'int8', 'int64', 'float64', 'float32', 'float16'])\n",
    "cat_attributes = data.select_dtypes(exclude=['int32', 'int8', 'int64', 'float64', 'float32', 'float16', 'datetime64[ns]'])"
   ]
  },
  {
   "attachments": {},
   "cell_type": "markdown",
   "metadata": {},
   "source": [
    "## 1.4.1 Atributos Numéricos"
   ]
  },
  {
   "cell_type": "code",
   "execution_count": 40,
   "metadata": {},
   "outputs": [
    {
     "data": {
      "text/html": [
       "<div>\n",
       "<style scoped>\n",
       "    .dataframe tbody tr th:only-of-type {\n",
       "        vertical-align: middle;\n",
       "    }\n",
       "\n",
       "    .dataframe tbody tr th {\n",
       "        vertical-align: top;\n",
       "    }\n",
       "\n",
       "    .dataframe thead th {\n",
       "        text-align: right;\n",
       "    }\n",
       "</style>\n",
       "<table border=\"1\" class=\"dataframe\">\n",
       "  <thead>\n",
       "    <tr style=\"text-align: right;\">\n",
       "      <th></th>\n",
       "      <th>attributes</th>\n",
       "      <th>min</th>\n",
       "      <th>max</th>\n",
       "      <th>range</th>\n",
       "      <th>mean</th>\n",
       "      <th>median</th>\n",
       "      <th>std</th>\n",
       "      <th>skew</th>\n",
       "      <th>kurtosis</th>\n",
       "    </tr>\n",
       "  </thead>\n",
       "  <tbody>\n",
       "    <tr>\n",
       "      <th>0</th>\n",
       "      <td>id</td>\n",
       "      <td>1.00</td>\n",
       "      <td>7043.00</td>\n",
       "      <td>7042.0</td>\n",
       "      <td>3530.313454</td>\n",
       "      <td>3525.50</td>\n",
       "      <td>2036.014395</td>\n",
       "      <td>0.000004</td>\n",
       "      <td>-1.202118</td>\n",
       "    </tr>\n",
       "    <tr>\n",
       "      <th>1</th>\n",
       "      <td>SeniorCitizen</td>\n",
       "      <td>0.00</td>\n",
       "      <td>1.00</td>\n",
       "      <td>1.0</td>\n",
       "      <td>0.158679</td>\n",
       "      <td>0.00</td>\n",
       "      <td>0.365377</td>\n",
       "      <td>1.868818</td>\n",
       "      <td>1.493010</td>\n",
       "    </tr>\n",
       "    <tr>\n",
       "      <th>2</th>\n",
       "      <td>tenure</td>\n",
       "      <td>0.00</td>\n",
       "      <td>72.00</td>\n",
       "      <td>72.0</td>\n",
       "      <td>32.332882</td>\n",
       "      <td>NaN</td>\n",
       "      <td>24.461242</td>\n",
       "      <td>0.245787</td>\n",
       "      <td>-1.375160</td>\n",
       "    </tr>\n",
       "    <tr>\n",
       "      <th>3</th>\n",
       "      <td>MonthlyCharges</td>\n",
       "      <td>18.25</td>\n",
       "      <td>118.75</td>\n",
       "      <td>100.5</td>\n",
       "      <td>64.626438</td>\n",
       "      <td>70.25</td>\n",
       "      <td>30.019141</td>\n",
       "      <td>-0.216087</td>\n",
       "      <td>-1.257425</td>\n",
       "    </tr>\n",
       "    <tr>\n",
       "      <th>4</th>\n",
       "      <td>Churn</td>\n",
       "      <td>0.00</td>\n",
       "      <td>1.00</td>\n",
       "      <td>1.0</td>\n",
       "      <td>0.265353</td>\n",
       "      <td>0.00</td>\n",
       "      <td>0.441521</td>\n",
       "      <td>1.063185</td>\n",
       "      <td>-0.869947</td>\n",
       "    </tr>\n",
       "  </tbody>\n",
       "</table>\n",
       "</div>"
      ],
      "text/plain": [
       "       attributes    min      max   range         mean   median          std      skew  kurtosis\n",
       "0              id   1.00  7043.00  7042.0  3530.313454  3525.50  2036.014395  0.000004 -1.202118\n",
       "1   SeniorCitizen   0.00     1.00     1.0     0.158679     0.00     0.365377  1.868818  1.493010\n",
       "2          tenure   0.00    72.00    72.0    32.332882      NaN    24.461242  0.245787 -1.375160\n",
       "3  MonthlyCharges  18.25   118.75   100.5    64.626438    70.25    30.019141 -0.216087 -1.257425\n",
       "4           Churn   0.00     1.00     1.0     0.265353     0.00     0.441521  1.063185 -0.869947"
      ]
     },
     "execution_count": 40,
     "metadata": {},
     "output_type": "execute_result"
    }
   ],
   "source": [
    "show_descriptive_statistical(num_attributes)"
   ]
  },
  {
   "attachments": {},
   "cell_type": "markdown",
   "metadata": {},
   "source": [
    "## 1.4.2 Atributos Categóricos"
   ]
  },
  {
   "cell_type": "code",
   "execution_count": 41,
   "metadata": {},
   "outputs": [
    {
     "data": {
      "text/plain": [
       "gender                 2\n",
       "Partner                2\n",
       "Dependents             3\n",
       "PhoneService           2\n",
       "MultipleLines          3\n",
       "InternetService        3\n",
       "OnlineSecurity         3\n",
       "OnlineBackup           3\n",
       "DeviceProtection       3\n",
       "TechSupport            3\n",
       "StreamingTV            3\n",
       "StreamingMovies        3\n",
       "Contract               3\n",
       "PaperlessBilling       2\n",
       "PaymentMethod          5\n",
       "TotalCharges        5286\n",
       "dtype: int64"
      ]
     },
     "execution_count": 41,
     "metadata": {},
     "output_type": "execute_result"
    }
   ],
   "source": [
    "# Verificar a quantidade de itens únicos em cada variável categórica\n",
    "cat_attributes.apply(lambda x: x.unique().shape[0])"
   ]
  },
  {
   "attachments": {},
   "cell_type": "markdown",
   "metadata": {},
   "source": [
    "# 2. Análise Exploratória dos Dados"
   ]
  },
  {
   "attachments": {},
   "cell_type": "markdown",
   "metadata": {},
   "source": [
    "## 2.1 Análise Univariada dos Dados"
   ]
  },
  {
   "attachments": {},
   "cell_type": "markdown",
   "metadata": {},
   "source": [
    "### 2.1.1 Variável Alvo (TARGET)"
   ]
  },
  {
   "cell_type": "code",
   "execution_count": 42,
   "metadata": {},
   "outputs": [
    {
     "data": {
      "image/png": "[encoded data removed]",
      "text/plain": [
       "<Figure size 1200x800 with 1 Axes>"
      ]
     },
     "metadata": {},
     "output_type": "display_data"
    }
   ],
   "source": [
    "sns.histplot(data['Churn'])\n",
    "plt.title('Distribuição de dados',size=15,pad=15);"
   ]
  },
  {
   "attachments": {},
   "cell_type": "markdown",
   "metadata": {},
   "source": [
    "# 3. Preparação dos Dados"
   ]
  },
  {
   "attachments": {},
   "cell_type": "markdown",
   "metadata": {},
   "source": [
    "# 3.1 Split dos Dados\n"
   ]
  },
  {
   "cell_type": "code",
   "execution_count": 43,
   "metadata": {},
   "outputs": [],
   "source": [
    "X = data.drop(columns=['id', 'Churn'])\n",
    "y = data.Churn\n",
    "X_train, X_test, y_train, y_test = train_test_split(X, y, test_size=0.2, random_state=0)"
   ]
  },
  {
   "cell_type": "code",
   "execution_count": 44,
   "metadata": {},
   "outputs": [],
   "source": [
    "num_attributes = X_train.select_dtypes(include=['int32', 'int8', 'int64', 'float64', 'float32', 'float16'])\n",
    "cat_attributes = X_train.select_dtypes(exclude=['int32', 'int8', 'int64', 'float64', 'float32', 'float16', 'datetime64[ns]'])"
   ]
  },
  {
   "attachments": {},
   "cell_type": "markdown",
   "metadata": {},
   "source": [
    "## 3.2 Pipeline de Imputações de Dados e Encoding (variáveis categóricas)"
   ]
  },
  {
   "cell_type": "code",
   "execution_count": 45,
   "metadata": {},
   "outputs": [],
   "source": [
    "# Define categorical pipeline\n",
    "cat_pipe = Pipeline([\n",
    "    ('imputer', SimpleImputer(strategy='most_frequent')),\n",
    "    # ('imputer', SimpleImputer(strategy='constant',fill_value=0)),\n",
    "    ('encoder', TargetEncoder())\n",
    "])\n",
    "\n",
    "# Define numerical pipeline\n",
    "num_pipe = Pipeline([\n",
    "    ('imputer', SimpleImputer(strategy='median')),\n",
    "    ('scaler',StandardScaler())\n",
    "    # ('imputer', SimpleImputer(strategy='mean'))\n",
    "])\n",
    "\n",
    "# Combine categorical and numerical pipelines\n",
    "preprocessor = ColumnTransformer([\n",
    "    ('cat', cat_pipe, cat_attributes.columns),\n",
    "    ('num', num_pipe, num_attributes.columns)\n",
    "])"
   ]
  },
  {
   "attachments": {},
   "cell_type": "markdown",
   "metadata": {},
   "source": [
    "# 4. Modelo de Machine Learning"
   ]
  },
  {
   "attachments": {},
   "cell_type": "markdown",
   "metadata": {},
   "source": [
    "# 4.1 Feature Selection"
   ]
  },
  {
   "cell_type": "code",
   "execution_count": 46,
   "metadata": {},
   "outputs": [
    {
     "name": "stdout",
     "output_type": "stream",
     "text": [
      "Quantidade de features no conjunto de dados inicial: 19\n",
      "Quantidade de features selecionadas: 19\n"
     ]
    },
    {
     "data": {
      "image/png": "[encoded data removed]",
      "text/plain": [
       "<Figure size 800x800 with 1 Axes>"
      ]
     },
     "metadata": {},
     "output_type": "display_data"
    }
   ],
   "source": [
    "pipe_feature_importances = Pipeline([\n",
    "                            ('preprocessor', preprocessor),\n",
    "                            ('model', RandomForestClassifier())\n",
    "])\n",
    "\n",
    "pipe_feature_importances.fit(X_train, y_train)\n",
    "\n",
    "importances = pipe_feature_importances['model'].feature_importances_\n",
    "std         = np.std([tree.feature_importances_ for tree in pipe_feature_importances['model'].estimators_],\n",
    "             axis=0)\n",
    "indices     = np.argsort(importances)[::-1]\n",
    "\n",
    "indices_selected_features=[]\n",
    "\n",
    "for f in range(X_train.shape[1]):\n",
    "    if importances[indices[f]] > 0: \n",
    "        indices_selected_features.append(indices[f])\n",
    "\n",
    "print('Quantidade de features no conjunto de dados inicial: {}'.format(X_train.shape[1]))\n",
    "print('Quantidade de features selecionadas: {}'.format(len(indices_selected_features)))\n",
    "\n",
    "# Plot the feature importances of the forest\n",
    "plt.figure(1, figsize=(8, 8))\n",
    "plt.title(\"Feature importances\")\n",
    "plt.bar(range(X_train.shape[1]), importances[indices],\n",
    "       color=\"g\", yerr=std[indices], align=\"center\")\n",
    "# plt.xticks(range(X_train.shape[1]), X_train.columns[indices],rotation=90)\n",
    "plt.xlim([-1, X_train.shape[1]])\n",
    "plt.show()"
   ]
  },
  {
   "cell_type": "code",
   "execution_count": 47,
   "metadata": {},
   "outputs": [
    {
     "name": "stdout",
     "output_type": "stream",
     "text": [
      "['MonthlyCharges', 'TotalCharges', 'StreamingTV', 'Contract', 'MultipleLines', 'PaperlessBilling', 'OnlineBackup', 'PhoneService', 'gender', 'InternetService']\n"
     ]
    }
   ],
   "source": [
    "# Lista das 10 Features mais importantes\n",
    "indices_selected_features_top10 = indices_selected_features[:10]\n",
    "\n",
    "# Exibir as 10 features mais importantes\n",
    "print(X_train.columns[indices_selected_features_top10].to_list())"
   ]
  },
  {
   "cell_type": "code",
   "execution_count": 48,
   "metadata": {},
   "outputs": [],
   "source": [
    "# Atualização do X_train e X_test com base em todas as features selecionadas\n",
    "X_train = X_train[X_train.columns[indices_selected_features]]\n",
    "X_test  = X_test[X_test.columns[indices_selected_features]]"
   ]
  },
  {
   "cell_type": "code",
   "execution_count": 49,
   "metadata": {},
   "outputs": [],
   "source": [
    "num_attributes = X_train.select_dtypes(include=['int32', 'int8', 'int64', 'float64', 'float32', 'float16'])\n",
    "cat_attributes = X_train.select_dtypes(exclude=['int32', 'int8', 'int64', 'float64', 'float32', 'float16', 'datetime64[ns]'])"
   ]
  },
  {
   "attachments": {},
   "cell_type": "markdown",
   "metadata": {},
   "source": [
    "# 4.3 Seleção do Modelo de Machine Learning"
   ]
  },
  {
   "attachments": {},
   "cell_type": "markdown",
   "metadata": {},
   "source": [
    "Modelos testados:\n",
    "\n",
    "* LogisticRegression();\n",
    "* RandomForestClassifier();\n",
    "* XGBClassifier();\n",
    "* lgb.LGBMClassifier();\n",
    "* CatBoostClassifier()\n"
   ]
  },
  {
   "cell_type": "code",
   "execution_count": 50,
   "metadata": {},
   "outputs": [
    {
     "name": "stdout",
     "output_type": "stream",
     "text": [
      "LogisticRegression(class_weight='balanced')\n",
      "model roc_auc_score: 0.8780\n",
      "model classification report\n",
      "              precision    recall  f1-score   support\n",
      "\n",
      "           0       0.93      0.76      0.84       827\n",
      "           1       0.56      0.84      0.68       300\n",
      "\n",
      "    accuracy                           0.78      1127\n",
      "   macro avg       0.75      0.80      0.76      1127\n",
      "weighted avg       0.83      0.78      0.80      1127\n",
      "\n",
      "RandomForestClassifier(class_weight='balanced')\n",
      "model roc_auc_score: 0.8508\n",
      "model classification report\n",
      "              precision    recall  f1-score   support\n",
      "\n",
      "           0       0.83      0.91      0.87       827\n",
      "           1       0.65      0.48      0.55       300\n",
      "\n",
      "    accuracy                           0.79      1127\n",
      "   macro avg       0.74      0.69      0.71      1127\n",
      "weighted avg       0.78      0.79      0.78      1127\n",
      "\n",
      "XGBClassifier(base_score=0.5, booster='gbtree', callbacks=None,\n",
      "              colsample_bylevel=1, colsample_bynode=1, colsample_bytree=1,\n",
      "              early_stopping_rounds=None, enable_categorical=False,\n",
      "              eval_metric=None, feature_types=None, gamma=0, gpu_id=-1,\n",
      "              grow_policy='depthwise', importance_type=None,\n",
      "              interaction_constraints='', learning_rate=0.300000012,\n",
      "              max_bin=256, max_cat_threshold=64, max_cat_to_onehot=4,\n",
      "              max_delta_step=0, max_depth=6, max_leaves=0, min_child_weight=1,\n",
      "              missing=nan, monotone_constraints='()', n_estimators=100,\n",
      "              n_jobs=0, num_parallel_tree=1, predictor='auto', random_state=0, ...)\n",
      "model roc_auc_score: 0.8410\n",
      "model classification report\n",
      "              precision    recall  f1-score   support\n",
      "\n",
      "           0       0.83      0.89      0.86       827\n",
      "           1       0.63      0.50      0.56       300\n",
      "\n",
      "    accuracy                           0.79      1127\n",
      "   macro avg       0.73      0.70      0.71      1127\n",
      "weighted avg       0.78      0.79      0.78      1127\n",
      "\n",
      "LGBMClassifier(class_weight='balanced')\n",
      "model roc_auc_score: 0.8580\n",
      "model classification report\n",
      "              precision    recall  f1-score   support\n",
      "\n",
      "           0       0.89      0.80      0.84       827\n",
      "           1       0.57      0.73      0.64       300\n",
      "\n",
      "    accuracy                           0.78      1127\n",
      "   macro avg       0.73      0.76      0.74      1127\n",
      "weighted avg       0.80      0.78      0.79      1127\n",
      "\n",
      "<catboost.core.CatBoostClassifier object at 0x000001C173C22BE0>\n",
      "model roc_auc_score: 0.8678\n",
      "model classification report\n",
      "              precision    recall  f1-score   support\n",
      "\n",
      "           0       0.84      0.91      0.87       827\n",
      "           1       0.67      0.53      0.59       300\n",
      "\n",
      "    accuracy                           0.81      1127\n",
      "   macro avg       0.76      0.72      0.73      1127\n",
      "weighted avg       0.80      0.81      0.80      1127\n",
      "\n"
     ]
    }
   ],
   "source": [
    "classifiers = [\n",
    "    LogisticRegression(class_weight='balanced'),\n",
    "    RandomForestClassifier(class_weight='balanced'),\n",
    "    XGBClassifier(),\n",
    "    lgb.LGBMClassifier(class_weight='balanced'),\n",
    "    CatBoostClassifier(verbose=False)\n",
    "]\n",
    "\n",
    "# Define categorical pipeline\n",
    "cat_pipe = Pipeline([\n",
    "    ('imputer', SimpleImputer(strategy='most_frequent')),\n",
    "    # ('imputer', SimpleImputer(strategy='constant',fill_value=0)),\n",
    "    ('encoder', TargetEncoder())\n",
    "])\n",
    "\n",
    "# Define numerical pipeline\n",
    "num_pipe = Pipeline([\n",
    "    ('imputer', SimpleImputer(strategy='median')),\n",
    "    ('scaler',StandardScaler())\n",
    "    # ('imputer', SimpleImputer(strategy='mean'))\n",
    "])\n",
    "\n",
    "# Combine categorical and numerical pipelines\n",
    "preprocessor = ColumnTransformer([\n",
    "    ('cat', cat_pipe, cat_attributes.columns),\n",
    "    ('num', num_pipe, num_attributes.columns)\n",
    "])\n",
    "\n",
    "results = []\n",
    "for classifier in classifiers:\n",
    "    pipe = Pipeline(steps=[(\"preprocessor\", preprocessor), (\"classifier\", classifier)])\n",
    "    pipe.fit(X_train, y_train)\n",
    "    ypred = pipe.predict(X_test)\n",
    "    y_pred_prob = pipe.predict_proba(X_test)[:,1]\n",
    "    roc_auc = roc_auc_score(y_test,y_pred_prob)\n",
    "    results.append(roc_auc)\n",
    "    print(classifier)\n",
    "    print(\"model roc_auc_score: %.4f\" % roc_auc)\n",
    "    print(\"model classification report\")\n",
    "    print(classification_report(y_test, ypred))"
   ]
  },
  {
   "cell_type": "code",
   "execution_count": 51,
   "metadata": {},
   "outputs": [
    {
     "data": {
      "text/html": [
       "<div>\n",
       "<style scoped>\n",
       "    .dataframe tbody tr th:only-of-type {\n",
       "        vertical-align: middle;\n",
       "    }\n",
       "\n",
       "    .dataframe tbody tr th {\n",
       "        vertical-align: top;\n",
       "    }\n",
       "\n",
       "    .dataframe thead th {\n",
       "        text-align: right;\n",
       "    }\n",
       "</style>\n",
       "<table border=\"1\" class=\"dataframe\">\n",
       "  <thead>\n",
       "    <tr style=\"text-align: right;\">\n",
       "      <th></th>\n",
       "      <th>ROC-AUC</th>\n",
       "    </tr>\n",
       "  </thead>\n",
       "  <tbody>\n",
       "    <tr>\n",
       "      <th>LogisticRegression</th>\n",
       "      <td>0.877965</td>\n",
       "    </tr>\n",
       "    <tr>\n",
       "      <th>Catboost</th>\n",
       "      <td>0.867763</td>\n",
       "    </tr>\n",
       "    <tr>\n",
       "      <th>LightGBM</th>\n",
       "      <td>0.858025</td>\n",
       "    </tr>\n",
       "    <tr>\n",
       "      <th>Random Forest</th>\n",
       "      <td>0.850838</td>\n",
       "    </tr>\n",
       "    <tr>\n",
       "      <th>XGBoost</th>\n",
       "      <td>0.841024</td>\n",
       "    </tr>\n",
       "  </tbody>\n",
       "</table>\n",
       "</div>"
      ],
      "text/plain": [
       "                     ROC-AUC\n",
       "LogisticRegression  0.877965\n",
       "Catboost            0.867763\n",
       "LightGBM            0.858025\n",
       "Random Forest       0.850838\n",
       "XGBoost             0.841024"
      ]
     },
     "execution_count": 51,
     "metadata": {},
     "output_type": "execute_result"
    }
   ],
   "source": [
    "# Comparação entre a métrica ROC-AUC para os diversos modelos\n",
    "df_roc_auc = pd.DataFrame(results,index=['LogisticRegression','Random Forest','XGBoost','LightGBM','Catboost'],columns=['ROC-AUC']).sort_values(by='ROC-AUC',ascending=False)\n",
    "df_roc_auc"
   ]
  },
  {
   "cell_type": "code",
   "execution_count": 52,
   "metadata": {},
   "outputs": [],
   "source": [
    "# Exportando imagem \n",
    "dfi.export(df_roc_auc, 'dataframe_roc_auc_churn.png')"
   ]
  },
  {
   "attachments": {},
   "cell_type": "markdown",
   "metadata": {},
   "source": [
    "## 4.4 Tunagem do Modelo"
   ]
  },
  {
   "cell_type": "code",
   "execution_count": 53,
   "metadata": {},
   "outputs": [
    {
     "name": "stdout",
     "output_type": "stream",
     "text": [
      "LogisticRegression(class_weight='balanced')\n",
      "model roc_auc_score: 0.8780\n",
      "model classification report\n",
      "              precision    recall  f1-score   support\n",
      "\n",
      "           0       0.93      0.76      0.84       827\n",
      "           1       0.56      0.85      0.68       300\n",
      "\n",
      "    accuracy                           0.79      1127\n",
      "   macro avg       0.75      0.80      0.76      1127\n",
      "weighted avg       0.83      0.79      0.80      1127\n",
      "\n"
     ]
    }
   ],
   "source": [
    "# Define categorical pipeline\n",
    "cat_pipe = Pipeline([\n",
    "    ('imputer', SimpleImputer(strategy='most_frequent')),\n",
    "    # ('imputer', SimpleImputer(strategy='constant',fill_value=0)),\n",
    "    ('encoder', TargetEncoder())\n",
    "])\n",
    "\n",
    "# Define numerical pipeline\n",
    "num_pipe = Pipeline([\n",
    "    ('imputer', SimpleImputer(strategy='median')),\n",
    "    ('scaler',StandardScaler())\n",
    "    # ('imputer', SimpleImputer(strategy='mean'))\n",
    "])\n",
    "\n",
    "# Combine categorical and numerical pipelines\n",
    "preprocessor = ColumnTransformer([\n",
    "    ('cat', cat_pipe, cat_attributes.columns),\n",
    "    ('num', num_pipe, num_attributes.columns)\n",
    "])\n",
    "\n",
    "# classifier = CatBoostClassifier(verbose=False)\n",
    "classifier = LogisticRegression(class_weight='balanced')\n",
    "\n",
    "pipe = Pipeline(steps=[(\"preprocessor\", preprocessor), (\"classifier\", classifier)])\n",
    "distributions = [{\n",
    "    'classifier__penalty' : ['l1','l2','None'],\n",
    "    'classifier__C' : np.logspace(-4, 4, 50)\n",
    "    }]\n",
    "clf = GridSearchCV(pipe, distributions, cv = 5, verbose=False, n_jobs=-1, scoring='roc_auc')\n",
    "\n",
    "best_clf = clf.fit(X_train, y_train)\n",
    "\n",
    "ypred = best_clf.predict(X_test)\n",
    "\n",
    "y_pred_prob = best_clf.predict_proba(X_test)[:,1]\n",
    "print(classifier)\n",
    "print(\"model roc_auc_score: %.4f\" % roc_auc_score(y_test,y_pred_prob))\n",
    "print(\"model classification report\")\n",
    "print(classification_report(y_test, ypred))"
   ]
  },
  {
   "attachments": {},
   "cell_type": "markdown",
   "metadata": {},
   "source": [
    "# 5. Avaliando os casos de Churn por Faixas de Score"
   ]
  },
  {
   "cell_type": "code",
   "execution_count": 54,
   "metadata": {},
   "outputs": [],
   "source": [
    "# df corresponde à tabela analítica de modelagem com o score (predict proba) como uma das colunas\n",
    "df              = X_test.copy()\n",
    "df['Target']    = y_test\n",
    "df['Score']     = y_pred_prob"
   ]
  },
  {
   "cell_type": "code",
   "execution_count": 55,
   "metadata": {},
   "outputs": [],
   "source": [
    "# Função que cria a divisão por faixas de score\n",
    "def RankScore(input_score_df,nm_score,targetname,bins):\n",
    "    input_score_df['score'] = input_score_df[nm_score]\n",
    "    input_score_df['rank']  = pd.cut(input_score_df[nm_score],bins,labels=False)\n",
    "    df1 =input_score_df.groupby('rank').agg({targetname: np.mean, 'rank': np.size})\n",
    "    df1['id_ranks'] = df1.index\n",
    "    df1['tx_evento'] = df1[targetname]\n",
    "    df1['qt_rank'] = df1['rank']\n",
    "    df1 = df1.drop(['rank',targetname],axis=1)\n",
    "    df1 = df1.reset_index()\n",
    "    df_ord_score = df1.drop(['rank'],axis=1)\n",
    "    return df_ord_score"
   ]
  },
  {
   "cell_type": "code",
   "execution_count": 56,
   "metadata": {},
   "outputs": [],
   "source": [
    "df_rank = RankScore(df,'Score','Target',bins=8)"
   ]
  },
  {
   "cell_type": "code",
   "execution_count": 57,
   "metadata": {},
   "outputs": [
    {
     "data": {
      "image/png": "[encoded data removed]",
      "text/plain": [
       "<Figure size 1200x700 with 1 Axes>"
      ]
     },
     "metadata": {},
     "output_type": "display_data"
    }
   ],
   "source": [
    "# Plotando gráfico par visualizar o percentual de Churn por faixa de Score\n",
    "height = df_rank.tx_evento\n",
    "bars   = df_rank.id_ranks\n",
    "y_pos  = np.arange(len(bars))\n",
    "\n",
    "fig = plt.figure(figsize=(12,7))\n",
    "plt.rcParams.update({'font.size':15})\n",
    "\n",
    "plt.bar(y_pos,height)\n",
    "plt.xticks(y_pos,bars)\n",
    "plt.ylabel('Taxa de Evento')\n",
    "plt.xlabel('Faixas de Score')\n",
    "plt.title('Ordenação do Score')\n",
    "\n",
    "plt.show()\n",
    "\n",
    "fig.savefig('churn_score.png');"
   ]
  },
  {
   "attachments": {},
   "cell_type": "markdown",
   "metadata": {},
   "source": [
    "# 6. Exportando modelo para Deploy"
   ]
  },
  {
   "cell_type": "code",
   "execution_count": 58,
   "metadata": {},
   "outputs": [],
   "source": [
    "# ----------------------- Exportando o modelo com melhor resultado ----------------------- #\n",
    "\n",
    "# Exportando o modelo final para implantação\n",
    "import pickle\n",
    "\n",
    "pickle.dump(best_clf, open('./models/pipe.pkl', 'wb'))"
   ]
  }
 ],
 "metadata": {
  "kernelspec": {
   "display_name": "Python 3.9.12 ('base')",
   "language": "python",
   "name": "python3"
  },
  "language_info": {
   "codemirror_mode": {
    "name": "ipython",
    "version": 3
   },
   "file_extension": ".py",
   "mimetype": "text/x-python",
   "name": "python",
   "nbconvert_exporter": "python",
   "pygments_lexer": "ipython3",
   "version": "3.9.15 (main, Nov 24 2022, 14:39:17) [MSC v.1916 64 bit (AMD64)]"
  },
  "vscode": {
   "interpreter": {
    "hash": "ad2bdc8ecc057115af97d19610ffacc2b4e99fae6737bb82f5d7fb13d2f2c186"
   }
  }
 },
 "nbformat": 4,
 "nbformat_minor": 4
}
